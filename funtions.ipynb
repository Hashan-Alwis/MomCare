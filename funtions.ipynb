{
 "cells": [
  {
   "cell_type": "code",
   "execution_count": 1,
   "metadata": {},
   "outputs": [],
   "source": [
    "import numpy as np\n",
    "import pandas as pd\n",
    "from sklearn.model_selection import train_test_split\n",
    "from sklearn.preprocessing import LabelEncoder,OneHotEncoder\n",
    "from sklearn.svm import SVC\n",
    "from sklearn.metrics import accuracy_score, classification_report, confusion_matrix\n",
    "from sklearn.compose import ColumnTransformer\n",
    "from sklearn.neighbors import KNeighborsClassifier\n",
    "from sklearn.neural_network import MLPClassifier\n",
    "from sklearn.ensemble import RandomForestClassifier\n",
    "import pickle\n",
    "import joblib\n",
    "from scipy.stats import chi2_contingency"
   ]
  },
  {
   "cell_type": "code",
   "execution_count": 2,
   "metadata": {},
   "outputs": [],
   "source": [
    "with open('RF_model.pkl', 'rb') as file:\n",
    "    loaded_model = pickle.load(file)\n",
    "\n",
    "\n",
    "loaded_preprocessor = joblib.load('preprocessor.pkl')"
   ]
  },
  {
   "cell_type": "code",
   "execution_count": 99,
   "metadata": {},
   "outputs": [],
   "source": [
    "def get_prediction(df):\n",
    "    x =loaded_preprocessor.transform(df) \n",
    "    y_pred = loaded_model.predict(x)\n",
    "\n",
    "    return y_pred[0]"
   ]
  },
  {
   "cell_type": "code",
   "execution_count": 7,
   "metadata": {},
   "outputs": [],
   "source": [
    "score_mapping = [\n",
    "    [0, 1, 2, 3],  # Question 1\n",
    "    [0, 1, 2, 3],  # Question 2\n",
    "    [3, 2, 1, 0],  # Question 3\n",
    "    [0, 1, 2, 3],  # Question 4\n",
    "    [3, 2, 1, 0],  # Question 5\n",
    "    [3, 2, 1, 0],  # Question 6\n",
    "    [3, 2, 1, 0],  # Question 7\n",
    "    [3, 2, 1, 0],  # Question 8\n",
    "    [3, 2, 1, 0],  # Question 9\n",
    "    [3, 2, 1, 0],  # Question 10\n",
    "]\n"
   ]
  },
  {
   "cell_type": "code",
   "execution_count": 29,
   "metadata": {},
   "outputs": [],
   "source": [
    "value_mappings = {\n",
    "    'q1': {\n",
    "        0: \"As much as I always could\",\n",
    "        1: \"Not quite so much now\",\n",
    "        2: \"Definitely not so much now\",\n",
    "        3: \"Not at all\"\n",
    "    },\n",
    "    'q2': {\n",
    "        0: \"As much as I ever did\",\n",
    "        1: \"Rather less than I used to\",\n",
    "        2: \"Definitely less than I used to\",\n",
    "        3: \"Hardly at all\"\n",
    "    },\n",
    "    'q3': {\n",
    "        0: \"Yes, most of the time\",\n",
    "        1: \"Yes, some of the time\",\n",
    "        2: \"Not very often\",\n",
    "        3: \"No, never\"\n",
    "    },\n",
    "    'q4': {\n",
    "        0: \"No, not at all\",\n",
    "        1: \"Hardly ever\",\n",
    "        2: \"Yes, sometimes\",\n",
    "        3: \"Yes, very often\"\n",
    "    },\n",
    "    'q5': {\n",
    "        0: \"Yes, quite a lot\",\n",
    "        1: \"Yes, sometimes\",\n",
    "        2: \"No, not much\",\n",
    "        3: \"No, not at all\"\n",
    "    },\n",
    "    'q6': {\n",
    "        0: \"Yes, most of the time I haven't been able to cope at all\",\n",
    "        1: \"Yes, sometimes I haven't been coping as well as usual\",\n",
    "        2: \"No, most of the time I have coped quite well\",\n",
    "        3: \"No, I have been coping as well as ever\"\n",
    "    },\n",
    "    'q7': {\n",
    "        0: \"Yes, most of the time\",\n",
    "        1: \"Yes, sometimes\",\n",
    "        2: \"Not very often\",\n",
    "        3: \"No, not at all\"\n",
    "    },\n",
    "    'q8': {\n",
    "        0: \"Yes, most of the time\",\n",
    "        1: \"Yes, quite often\",\n",
    "        2: \"Not very often\",\n",
    "        3: \"No, not at all\"\n",
    "    },\n",
    "    'q9': {\n",
    "        0: \"Yes, most of the time\",\n",
    "        1: \"Yes, quite often\",\n",
    "        2: \"Only occasionally\",\n",
    "        3: \"No, never\"\n",
    "    },\n",
    "    'q10': {\n",
    "        0: \"Yes, quite often\",\n",
    "        1: \"Sometimes\",\n",
    "        2: \"Hardly ever\",\n",
    "        3: \"Never\"\n",
    "    }\n",
    "}\n"
   ]
  },
  {
   "cell_type": "code",
   "execution_count": 26,
   "metadata": {},
   "outputs": [],
   "source": [
    "new_order = ['q1', 'q2', 'q3', 'q4', 'q5', 'q6', 'q7', 'q8', 'q9', 'q10',\n",
    "             'Total Score', 'Age', 'Partner Support', 'Marital Status',\n",
    "             'Sleep Quality', 'Fertility Treatment History', 'Diabetes Level']"
   ]
  },
  {
   "cell_type": "code",
   "execution_count": 14,
   "metadata": {},
   "outputs": [],
   "source": [
    "def calculate_score(row, score_mapping):\n",
    "    total_score = 0\n",
    "    for i, mapping in enumerate(score_mapping):\n",
    "        score_dict = dict(enumerate(mapping))\n",
    "        total_score += score_dict[row[f'q{i+1}']]\n",
    "    return total_score"
   ]
  },
  {
   "cell_type": "code",
   "execution_count": 15,
   "metadata": {},
   "outputs": [],
   "source": [
    "def add_total_score(df, score_mapping):\n",
    "    df['Total Score'] = df.apply(lambda row: calculate_score(row, score_mapping), axis=1)\n",
    "    return df"
   ]
  },
  {
   "cell_type": "code",
   "execution_count": null,
   "metadata": {},
   "outputs": [],
   "source": []
  },
  {
   "cell_type": "code",
   "execution_count": 95,
   "metadata": {},
   "outputs": [],
   "source": [
    "sample = [0,2,3,1,2,1,1,2,3,2,23,\"Not Enough\",\"Married\", \"Poor Quality\", \"Advanced Treatment\", \"No Diabetes\"]"
   ]
  },
  {
   "cell_type": "code",
   "execution_count": 96,
   "metadata": {},
   "outputs": [],
   "source": [
    "def create_df(values):\n",
    "    df =pd.DataFrame([values], columns=['q1', 'q2', 'q3', 'q4', 'q5', 'q6', 'q7', 'q8', 'q9', 'q10',\n",
    "            'Age', 'Partner Support', 'Marital Status',\n",
    "        'Sleep Quality', 'Fertility Treatment History', 'Diabetes Level'])\n",
    "    \n",
    "    df = add_total_score(df, score_mapping)\n",
    "    \n",
    "    df = df[new_order]\n",
    "\n",
    "    for question, mapping in value_mappings.items():\n",
    "        df[question] = df[question].replace(mapping)\n",
    "    \n",
    "    return df"
   ]
  },
  {
   "cell_type": "code",
   "execution_count": 97,
   "metadata": {},
   "outputs": [
    {
     "data": {
      "text/html": [
       "<div>\n",
       "<style scoped>\n",
       "    .dataframe tbody tr th:only-of-type {\n",
       "        vertical-align: middle;\n",
       "    }\n",
       "\n",
       "    .dataframe tbody tr th {\n",
       "        vertical-align: top;\n",
       "    }\n",
       "\n",
       "    .dataframe thead th {\n",
       "        text-align: right;\n",
       "    }\n",
       "</style>\n",
       "<table border=\"1\" class=\"dataframe\">\n",
       "  <thead>\n",
       "    <tr style=\"text-align: right;\">\n",
       "      <th></th>\n",
       "      <th>q1</th>\n",
       "      <th>q2</th>\n",
       "      <th>q3</th>\n",
       "      <th>q4</th>\n",
       "      <th>q5</th>\n",
       "      <th>q6</th>\n",
       "      <th>q7</th>\n",
       "      <th>q8</th>\n",
       "      <th>q9</th>\n",
       "      <th>q10</th>\n",
       "      <th>Total Score</th>\n",
       "      <th>Age</th>\n",
       "      <th>Partner Support</th>\n",
       "      <th>Marital Status</th>\n",
       "      <th>Sleep Quality</th>\n",
       "      <th>Fertility Treatment History</th>\n",
       "      <th>Diabetes Level</th>\n",
       "    </tr>\n",
       "  </thead>\n",
       "  <tbody>\n",
       "    <tr>\n",
       "      <th>0</th>\n",
       "      <td>As much as I always could</td>\n",
       "      <td>Definitely less than I used to</td>\n",
       "      <td>No, never</td>\n",
       "      <td>Hardly ever</td>\n",
       "      <td>No, not much</td>\n",
       "      <td>Yes, sometimes I haven't been coping as well a...</td>\n",
       "      <td>Yes, sometimes</td>\n",
       "      <td>Not very often</td>\n",
       "      <td>No, never</td>\n",
       "      <td>Hardly ever</td>\n",
       "      <td>10</td>\n",
       "      <td>23</td>\n",
       "      <td>Not Enough</td>\n",
       "      <td>Married</td>\n",
       "      <td>Poor Quality</td>\n",
       "      <td>Advanced Treatment</td>\n",
       "      <td>No Diabetes</td>\n",
       "    </tr>\n",
       "  </tbody>\n",
       "</table>\n",
       "</div>"
      ],
      "text/plain": [
       "                          q1                              q2         q3  \\\n",
       "0  As much as I always could  Definitely less than I used to  No, never   \n",
       "\n",
       "            q4            q5  \\\n",
       "0  Hardly ever  No, not much   \n",
       "\n",
       "                                                  q6              q7  \\\n",
       "0  Yes, sometimes I haven't been coping as well a...  Yes, sometimes   \n",
       "\n",
       "               q8         q9          q10  Total Score  Age Partner Support  \\\n",
       "0  Not very often  No, never  Hardly ever           10   23      Not Enough   \n",
       "\n",
       "  Marital Status Sleep Quality Fertility Treatment History Diabetes Level  \n",
       "0        Married  Poor Quality          Advanced Treatment    No Diabetes  "
      ]
     },
     "execution_count": 97,
     "metadata": {},
     "output_type": "execute_result"
    }
   ],
   "source": [
    "df = create_df(sample)\n",
    "df"
   ]
  },
  {
   "cell_type": "code",
   "execution_count": 108,
   "metadata": {},
   "outputs": [
    {
     "data": {
      "text/plain": [
       "10"
      ]
     },
     "execution_count": 108,
     "metadata": {},
     "output_type": "execute_result"
    }
   ],
   "source": [
    "int(df[\"Total Score\"].values[0])"
   ]
  },
  {
   "cell_type": "code",
   "execution_count": 107,
   "metadata": {},
   "outputs": [
    {
     "data": {
      "text/plain": [
       "np.int64(10)"
      ]
     },
     "execution_count": 107,
     "metadata": {},
     "output_type": "execute_result"
    }
   ],
   "source": [
    "df.at[0, 'Total Score']"
   ]
  },
  {
   "cell_type": "code",
   "execution_count": 111,
   "metadata": {},
   "outputs": [
    {
     "data": {
      "text/plain": [
       "'Moderate Possibility of Stress'"
      ]
     },
     "execution_count": 111,
     "metadata": {},
     "output_type": "execute_result"
    }
   ],
   "source": [
    "get_prediction(df)"
   ]
  },
  {
   "cell_type": "code",
   "execution_count": null,
   "metadata": {},
   "outputs": [],
   "source": []
  }
 ],
 "metadata": {
  "kernelspec": {
   "display_name": "MomCare",
   "language": "python",
   "name": "python3"
  },
  "language_info": {
   "codemirror_mode": {
    "name": "ipython",
    "version": 3
   },
   "file_extension": ".py",
   "mimetype": "text/x-python",
   "name": "python",
   "nbconvert_exporter": "python",
   "pygments_lexer": "ipython3",
   "version": "3.9.19"
  }
 },
 "nbformat": 4,
 "nbformat_minor": 2
}
